{
  "nbformat": 4,
  "nbformat_minor": 0,
  "metadata": {
    "colab": {
      "provenance": []
    },
    "kernelspec": {
      "name": "python3",
      "display_name": "Python 3"
    },
    "language_info": {
      "name": "python"
    }
  },
  "cells": [
    {
      "cell_type": "markdown",
      "source": [
        "# **1. Write a Python program which accepts the radius of a circle from the user and compute the area**"
      ],
      "metadata": {
        "id": "O42_RzUP6WYU"
      }
    },
    {
      "cell_type": "code",
      "source": [
        "import math\n",
        "print(\"to find the area of the circle\\n\\n\")\n",
        "r= float(input(\"enter the radius of the circle\"))\n",
        "a= math.pi*r**2\n",
        "print(\"area of the circle= \",a)\n"
      ],
      "metadata": {
        "colab": {
          "base_uri": "https://localhost:8080/"
        },
        "id": "FtN0C4gx6eru",
        "outputId": "3c9eed68-8047-481c-bb69-0154605ea54d"
      },
      "execution_count": null,
      "outputs": [
        {
          "output_type": "stream",
          "name": "stdout",
          "text": [
            "to find the area of the circle\n",
            "\n",
            "\n",
            "enter the radius of the circle3\n",
            "area of the circle=  28.274333882308138\n"
          ]
        }
      ]
    },
    {
      "cell_type": "markdown",
      "source": [
        "# 2. Write a Python Program to accept the details of a student like name, roll,number and mark and display it."
      ],
      "metadata": {
        "id": "qcstrUqv8dGj"
      }
    },
    {
      "cell_type": "code",
      "source": [
        "print(\"Enter the details of the students\\n\")\n",
        "name=str(input(\"enter the name: \\t\"))\n",
        "roll=int(input(\"enter the roll number:\\t\"))\n",
        "mark=int(input(\"enter the marks:\\t\"))\n",
        "print(\"\\nSTUDENT DETAILS\\n\")\n",
        "print(\"Name:\\t\",name)\n",
        "print(\"Roll No:\",roll)\n",
        "print(\"Mark:\\t\",mark)\n",
        "\n"
      ],
      "metadata": {
        "colab": {
          "base_uri": "https://localhost:8080/"
        },
        "id": "iEvzFF2d634H",
        "outputId": "76b3a2dd-766a-48ca-ce2f-4dd11f5ac4f6"
      },
      "execution_count": null,
      "outputs": [
        {
          "output_type": "stream",
          "name": "stdout",
          "text": [
            "Enter the details of the students\n",
            "\n",
            "enter the name: \tAlan\n",
            "enter the roll number:\t11\n",
            "enter the marks:\t46\n",
            "\n",
            "STUDENT DETAILS\n",
            "\n",
            "Name:\t Alan\n",
            "Roll No: 11\n",
            "Mark:\t 46\n"
          ]
        }
      ]
    },
    {
      "cell_type": "markdown",
      "source": [
        "# **3. Write a Python program to get the largest number from a list.**"
      ],
      "metadata": {
        "id": "yYELcrNnCfJb"
      }
    },
    {
      "cell_type": "code",
      "source": [],
      "metadata": {
        "id": "4aEnQ_Lr82PO"
      },
      "execution_count": null,
      "outputs": []
    }
  ]
}